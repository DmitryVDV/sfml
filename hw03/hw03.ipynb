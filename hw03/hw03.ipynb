{
 "cells": [
  {
   "cell_type": "code",
   "execution_count": 188,
   "metadata": {},
   "outputs": [],
   "source": [
    "import pandas as pd\n",
    "import numpy as np\n",
    "import seaborn as sns\n",
    "import math\n",
    "import matplotlib.pyplot as plt\n",
    "from sklearn.preprocessing import LabelEncoder, OneHotEncoder\n",
    "from ipywidgets import interact, IntSlider, FloatSlider\n",
    "\n",
    "%matplotlib inline\n"
   ]
  },
  {
   "cell_type": "code",
   "execution_count": 217,
   "metadata": {},
   "outputs": [],
   "source": [
    "df_train = pd.read_csv('train.csv', sep=',', encoding='utf8',index_col = '_id')"
   ]
  },
  {
   "cell_type": "code",
   "execution_count": 219,
   "metadata": {},
   "outputs": [],
   "source": [
    "df_subm = pd.read_csv('sample_submission.csv', sep=',', encoding='utf8',index_col = '_id')\n",
    "df_test = pd.read_csv('test.csv', sep=',', encoding='utf8',index_col = '_id')"
   ]
  },
  {
   "cell_type": "code",
   "execution_count": 220,
   "metadata": {},
   "outputs": [
    {
     "name": "stdout",
     "output_type": "stream",
     "text": [
      "==========\n",
      "job\n",
      "{'services', 'unemployed', 'student', 'retired', 'self-employed', 'blue-collar', 'admin.', 'housemaid', 'unknown', 'management', 'entrepreneur', 'technician'}\n",
      "\n",
      "\n",
      "==========\n",
      "marital\n",
      "{'single', 'divorced', 'married', 'unknown'}\n",
      "\n",
      "\n",
      "==========\n",
      "education\n",
      "{'basic.4y', 'university.degree', 'basic.6y', 'unknown', 'illiterate', 'basic.9y', 'high.school', 'professional.course'}\n",
      "\n",
      "\n",
      "==========\n",
      "default\n",
      "{'yes', 'no', 'unknown'}\n",
      "\n",
      "\n",
      "==========\n",
      "housing\n",
      "{'yes', 'unknown', 'no'}\n",
      "\n",
      "\n",
      "==========\n",
      "loan\n",
      "{'yes', 'unknown', 'no'}\n",
      "\n",
      "\n",
      "==========\n",
      "contact\n",
      "{'telephone', 'cellular'}\n",
      "\n",
      "\n",
      "==========\n",
      "month\n",
      "{'may', 'sep', 'apr', 'aug', 'jul', 'nov', 'jun', 'oct', 'mar', 'dec'}\n",
      "\n",
      "\n",
      "==========\n",
      "day_of_week\n",
      "{'tue', 'mon', 'fri', 'thu', 'wed'}\n",
      "\n",
      "\n",
      "==========\n",
      "poutcome\n",
      "{'failure', 'nonexistent', 'success'}\n",
      "\n",
      "\n"
     ]
    }
   ],
   "source": [
    "for i in df_train.columns: # перебираем все столбцы\n",
    "    if str(df_train[i].dtype) == 'object': # если тип столбца - object\n",
    "        print('='*10)\n",
    "        print(i) # выводим название столбца\n",
    "        print(set(df_train[i])) # выводим все его значения (но делаем set - чтоб значения не повторялись)\n",
    "        print('\\n') # выводим пустую строку"
   ]
  },
  {
   "cell_type": "code",
   "execution_count": 222,
   "metadata": {},
   "outputs": [
    {
     "name": "stdout",
     "output_type": "stream",
     "text": [
      "В выбранном датафрейме 21 столбцов.\n",
      "Всего 0 столбцов с неполными данными.\n"
     ]
    },
    {
     "data": {
      "text/html": [
       "<div>\n",
       "<style scoped>\n",
       "    .dataframe tbody tr th:only-of-type {\n",
       "        vertical-align: middle;\n",
       "    }\n",
       "\n",
       "    .dataframe tbody tr th {\n",
       "        vertical-align: top;\n",
       "    }\n",
       "\n",
       "    .dataframe thead th {\n",
       "        text-align: right;\n",
       "    }\n",
       "</style>\n",
       "<table border=\"1\" class=\"dataframe\">\n",
       "  <thead>\n",
       "    <tr style=\"text-align: right;\">\n",
       "      <th></th>\n",
       "      <th>Missing Values</th>\n",
       "      <th>% of Total Values</th>\n",
       "    </tr>\n",
       "  </thead>\n",
       "  <tbody>\n",
       "  </tbody>\n",
       "</table>\n",
       "</div>"
      ],
      "text/plain": [
       "Empty DataFrame\n",
       "Columns: [Missing Values, % of Total Values]\n",
       "Index: []"
      ]
     },
     "execution_count": 222,
     "metadata": {},
     "output_type": "execute_result"
    }
   ],
   "source": [
    "# Функция для подсчета недостающих столбцов\n",
    "def missing_values_table(df):\n",
    "    \n",
    "        # Всего недостает\n",
    "        mis_val = df.isnull().sum()\n",
    "        \n",
    "        # Процент недостающих данных\n",
    "        mis_val_percent = 100 * df.isnull().sum() / len(df)\n",
    "        \n",
    "        # Таблица с результатами\n",
    "        mis_val_table = pd.concat([mis_val, mis_val_percent], axis=1)\n",
    "        \n",
    "        # Переименование столбцов\n",
    "        mis_val_table_ren_columns = mis_val_table.rename(\n",
    "        columns = {0 : 'Missing Values', 1 : '% of Total Values'})\n",
    "        \n",
    "        # Сортировка про процентажу\n",
    "        mis_val_table_ren_columns = mis_val_table_ren_columns[\n",
    "            mis_val_table_ren_columns.iloc[:,1] != 0].sort_values(\n",
    "        '% of Total Values', ascending=False).round(1)\n",
    "        \n",
    "        # Инфо\n",
    "        print (\"В выбранном датафрейме \" + str(df.shape[1]) + \" столбцов.\\n\"      \n",
    "            \"Всего \" + str(mis_val_table_ren_columns.shape[0]) +\n",
    "              \" столбцов с неполными данными.\")\n",
    "        \n",
    "        # Возврат таблицы с данными\n",
    "        return mis_val_table_ren_columns\n",
    "    \n",
    "missing_values = missing_values_table(df_train)\n",
    "missing_values.head(10)"
   ]
  },
  {
   "cell_type": "code",
   "execution_count": 223,
   "metadata": {},
   "outputs": [
    {
     "data": {
      "text/plain": [
       "Text(0.5,0,'Столбцы')"
      ]
     },
     "execution_count": 223,
     "metadata": {},
     "output_type": "execute_result"
    },
    {
     "data": {
      "image/png": "[encoded data removed]",
      "text/plain": [
       "<Figure size 1296x432 with 1 Axes>"
      ]
     },
     "metadata": {},
     "output_type": "display_data"
    }
   ],
   "source": [
    "plt.style.use('seaborn-talk')\n",
    "\n",
    "fig = plt.figure(figsize=(18,6))\n",
    "miss_train = pd.DataFrame((df_train.isnull().sum())*100/df_train.shape[0]).reset_index()\n",
    "miss_test = pd.DataFrame((df_test.isnull().sum())*100/df_test.shape[0]).reset_index()\n",
    "miss_train[\"type\"] = \"тренировочная\"\n",
    "miss_test[\"type\"]  =  \"тестовая\"\n",
    "missing = pd.concat([miss_train,miss_test],axis=0)\n",
    "ax = sns.pointplot(\"index\",0,data=missing,hue=\"type\")\n",
    "plt.xticks(rotation =90,fontsize =7)\n",
    "plt.title(\"Доля отсуствующих значений в данных\")\n",
    "plt.ylabel(\"Доля в %\")\n",
    "plt.xlabel(\"Столбцы\")"
   ]
  },
  {
   "cell_type": "code",
   "execution_count": 224,
   "metadata": {},
   "outputs": [
    {
     "data": {
      "text/plain": [
       "job            12\n",
       "marital         4\n",
       "education       8\n",
       "default         3\n",
       "housing         3\n",
       "loan            3\n",
       "contact         2\n",
       "month          10\n",
       "day_of_week     5\n",
       "poutcome        3\n",
       "dtype: int64"
      ]
     },
     "execution_count": 224,
     "metadata": {},
     "output_type": "execute_result"
    }
   ],
   "source": [
    "# варианты значений типа Object\n",
    "df_train.select_dtypes(include=[object]).apply(pd.Series.nunique, axis = 0)\n"
   ]
  },
  {
   "cell_type": "code",
   "execution_count": 225,
   "metadata": {},
   "outputs": [
    {
     "data": {
      "text/plain": [
       "0    21925\n",
       "1     2787\n",
       "Name: target, dtype: int64"
      ]
     },
     "execution_count": 225,
     "metadata": {},
     "output_type": "execute_result"
    }
   ],
   "source": [
    "df_train.target.value_counts()"
   ]
  },
  {
   "cell_type": "code",
   "execution_count": 226,
   "metadata": {},
   "outputs": [
    {
     "data": {
      "image/png": "[encoded data removed]",
      "text/plain": [
       "<Figure size 576x360 with 1 Axes>"
      ]
     },
     "metadata": {},
     "output_type": "display_data"
    }
   ],
   "source": [
    "plt.style.use('fivethirtyeight')\n",
    "plt.rcParams[\"figure.figsize\"] = [8,5]\n",
    "\n",
    "plt.hist(df_train.target)\n",
    "plt.show()"
   ]
  },
  {
   "cell_type": "code",
   "execution_count": 227,
   "metadata": {},
   "outputs": [],
   "source": [
    "# Добавляет в DataFrame df новый столбец с именем column_name+'_le', содержащий номера категорий, \n",
    "# соответствующие столбцу column_name. Исходный столбец column_name удаляется\n",
    "#\n",
    "def encode_with_LabelEncoder(df, column_name):\n",
    "    label_encoder = LabelEncoder()\n",
    "    label_encoder.fit(df[column_name])\n",
    "    df[column_name+'_le'] = label_encoder.transform(df[column_name])\n",
    "    df.drop([column_name], axis=1, inplace=True)\n",
    "    return label_encoder\n",
    "\n",
    "# Кодирование с использованием ранее созданного LabelEncoder\n",
    "#\n",
    "def encode_with_existing_LabelEncoder(df, column_name, label_encoder):\n",
    "    df[column_name+'_le'] = label_encoder.transform(df[column_name])\n",
    "    df.drop([column_name], axis=1, inplace=True)\n",
    "\n",
    "# Вначале кодирует столбец column_name при помощи LabelEncoder, потом добавляет в DataFrame df новые столбцы \n",
    "# с именами column_name=<категория_i>. Столбцы column_name и column_name+'_le' удаляются\n",
    "# Usage: df, label_encoder = encode_with_OneHotEncoder_and_delete_column(df, column_name)\n",
    "#\n",
    "def encode_with_OneHotEncoder_and_delete_column(df, column_name):\n",
    "    le_encoder = encode_with_LabelEncoder(df, column_name)\n",
    "    return perform_dummy_coding_and_delete_column(df, column_name, le_encoder), le_encoder\n",
    "\n",
    "# То же, что предыдущий метод, но при помощи уже существующего LabelEncoder\n",
    "#\n",
    "def encode_with_OneHotEncoder_using_existing_LabelEncoder_and_delete_column(df, column_name, le_encoder):\n",
    "    encode_with_existing_LabelEncoder(df, column_name, le_encoder)\n",
    "    return perform_dummy_coding_and_delete_column(df, column_name, le_encoder)\n",
    "\n",
    "# Реализует Dummy-кодирование\n",
    "#\n",
    "def perform_dummy_coding_and_delete_column(df, column_name, le_encoder):\n",
    "    oh_encoder = OneHotEncoder(sparse=False)\n",
    "    oh_features = oh_encoder.fit_transform(df[column_name+'_le'].values.reshape(-1,1))\n",
    "    ohe_columns=[column_name + '=' + le_encoder.classes_[i] for i in range(oh_features.shape[1])]\n",
    "\n",
    "    df.drop([column_name+'_le'], axis=1, inplace=True)\n",
    "\n",
    "    df_with_features = pd.DataFrame(oh_features, columns=ohe_columns)\n",
    "    df_with_features.index = df.index\n",
    "    return pd.concat([df, df_with_features], axis=1)"
   ]
  },
  {
   "cell_type": "code",
   "execution_count": 228,
   "metadata": {},
   "outputs": [
    {
     "name": "stdout",
     "output_type": "stream",
     "text": [
      "(24712, 20) (24712,)\n"
     ]
    }
   ],
   "source": [
    "def extract_XY(data):\n",
    "    X = data.drop(['target'], axis=1)\n",
    "    Y = data['target']\n",
    "    return X, Y\n",
    "\n",
    "X, Y = extract_XY(df_train)\n",
    "\n",
    "print (X.shape, Y.shape)"
   ]
  },
  {
   "cell_type": "code",
   "execution_count": 229,
   "metadata": {},
   "outputs": [],
   "source": [
    "X1 = X.copy()"
   ]
  },
  {
   "cell_type": "code",
   "execution_count": 230,
   "metadata": {},
   "outputs": [],
   "source": [
    "Y1 = Y.copy()"
   ]
  },
  {
   "cell_type": "code",
   "execution_count": 231,
   "metadata": {},
   "outputs": [],
   "source": [
    "def OneHotEncoder_le(df,column_le):\n",
    "    df_out = df.copy()\n",
    "    ohe = OneHotEncoder(sparse=False)\n",
    "    new_ohe_features = ohe.fit_transform(df_out[column_le].values.reshape(-1,1))\n",
    "    \n",
    "    tmp = pd.DataFrame(new_ohe_features, columns=['job='+str(i) for i in range(new_ohe_features.shape[1])])\n",
    "    df_out = pd.concat([df_out,tmp], axis=1)\n",
    "\n",
    "    return df_out"
   ]
  },
  {
   "cell_type": "code",
   "execution_count": 232,
   "metadata": {},
   "outputs": [],
   "source": [
    "def preproc_data(df_input):\n",
    "    df_output = df_input.copy()\n",
    "    \n",
    "    \n",
    "    # month - последний контактный месяц года (\"jan\", \"feb\", \"mar\", ..., \"nov\", \"dec\") \n",
    "    \n",
    "   \n",
    "    df_output['is_month_occurs'] = df_output['month'].map(lambda x: 0 if x == 'unknown' else 1)\n",
    "    \n",
    "    max_mths_month = np.nanmax(df_output.month.values)\n",
    "    df_output['month'].fillna(max_mths_month, inplace=True)\n",
    "    \n",
    "  \n",
    "    \n",
    "    \n",
    "    df_output['is_job_occurs'] = df_output['job'].map(lambda x: 0 if x == 'unknown' else 1)\n",
    "    df_output['is_marital_occurs'] = df_output['marital'].map(lambda x: 0 if x == 'unknown' else 1)\n",
    "    df_output['is_education_occurs'] = df_output['education'].map(lambda x: 0 if x == 'unknown' else 1)\n",
    "    df_output['is_default_occurs'] = df_output['default'].map(lambda x: 0 if x == 'unknown' else 1)\n",
    "    df_output['is_housing_occurs'] = df_output['housing'].map(lambda x: 0 if x == 'unknown' else 1)\n",
    "    df_output['is_loan_occurs'] = df_output['loan'].map(lambda x: 0 if x == 'unknown' else 1)\n",
    "    \n",
    "\n",
    "        \n",
    "    #id_le = encode_with_LabelEncoder(df_output,'_id')\n",
    "    job_le = encode_with_LabelEncoder(df_output,'job')\n",
    "    marital_le = encode_with_LabelEncoder(df_output,'marital')\n",
    "    education_le = encode_with_LabelEncoder(df_output,'education')\n",
    "    default_le = encode_with_LabelEncoder(df_output,'default')\n",
    "    housing_le = encode_with_LabelEncoder(df_output,'housing')\n",
    "    loan = encode_with_LabelEncoder(df_output,'loan')\n",
    "    contact_le = encode_with_LabelEncoder(df_output,'contact')\n",
    "    month_le = encode_with_LabelEncoder(df_output,'month')\n",
    "    day_of_week_le = encode_with_LabelEncoder(df_output,'day_of_week')\n",
    "    poutcome_le = encode_with_LabelEncoder(df_output,'poutcome')\n",
    "    \n",
    "  \n",
    "    \n",
    "    return df_output"
   ]
  },
  {
   "cell_type": "code",
   "execution_count": 233,
   "metadata": {},
   "outputs": [],
   "source": [
    "def preproc_data_oneh(df_input):\n",
    "    df_output = df_input.copy()\n",
    "    \n",
    "    \n",
    "    # month - последний контактный месяц года (\"jan\", \"feb\", \"mar\", ..., \"nov\", \"dec\") \n",
    "    \n",
    "   \n",
    "    df_output['is_month_occurs'] = df_output['month'].map(lambda x: 0 if x == 'unknown' else 1)\n",
    "    \n",
    "    max_mths_month = np.nanmax(df_output.month.values)\n",
    "    df_output['month'].fillna(max_mths_month, inplace=True)\n",
    "    \n",
    "  \n",
    "    \n",
    "    \n",
    "    df_output['is_job_occurs'] = df_output['job'].map(lambda x: 0 if x == 'unknown' else 1)\n",
    "    df_output['is_marital_occurs'] = df_output['marital'].map(lambda x: 0 if x == 'unknown' else 1)\n",
    "    df_output['is_education_occurs'] = df_output['education'].map(lambda x: 0 if x == 'unknown' else 1)\n",
    "    df_output['is_default_occurs'] = df_output['default'].map(lambda x: 0 if x == 'unknown' else 1)\n",
    "    df_output['is_housing_occurs'] = df_output['housing'].map(lambda x: 0 if x == 'unknown' else 1)\n",
    "    df_output['is_loan_occurs'] = df_output['loan'].map(lambda x: 0 if x == 'unknown' else 1)\n",
    "    \n",
    "\n",
    "    #id_le = encode_with_LabelEncoder(df_output,'_id')\n",
    "    job_le = encode_with_LabelEncoder(df_output,'job')\n",
    "    marital_le = encode_with_LabelEncoder(df_output,'marital')\n",
    "    education_le = encode_with_LabelEncoder(df_output,'education')\n",
    "    default_le = encode_with_LabelEncoder(df_output,'default')\n",
    "    housing_le = encode_with_LabelEncoder(df_output,'housing')\n",
    "    loan = encode_with_LabelEncoder(df_output,'loan')\n",
    "    contact_le = encode_with_LabelEncoder(df_output,'contact')\n",
    "    month_le = encode_with_LabelEncoder(df_output,'month')\n",
    "    day_of_week_le = encode_with_LabelEncoder(df_output,'day_of_week')\n",
    "    poutcome_le = encode_with_LabelEncoder(df_output,'poutcome')\n",
    "        \n",
    "   \n",
    "    \n",
    "    df_output = OneHotEncoder_le(df_output,'job_le')\n",
    "    df_output = OneHotEncoder_le(df_output,'marital_le')\n",
    "    df_output = OneHotEncoder_le(df_output,'education_le')\n",
    "    df_output = OneHotEncoder_le(df_output,'default_le')\n",
    "    df_output = OneHotEncoder_le(df_output,'housing_le')\n",
    "    df_output = OneHotEncoder_le(df_output,'loan_le')\n",
    "    df_output = OneHotEncoder_le(df_output,'contact_le')\n",
    "    df_output = OneHotEncoder_le(df_output,'month_le')\n",
    "    df_output = OneHotEncoder_le(df_output,'day_of_week_le')\n",
    "    df_output = OneHotEncoder_le(df_output,'poutcome_le')\n",
    "    \n",
    "    \n",
    "    \n",
    "    return df_output"
   ]
  },
  {
   "cell_type": "code",
   "execution_count": 234,
   "metadata": {},
   "outputs": [],
   "source": [
    "df_preproc = X1.pipe(preproc_data)"
   ]
  },
  {
   "cell_type": "code",
   "execution_count": 208,
   "metadata": {},
   "outputs": [],
   "source": [
    "# Если OneHold то хуже получается\n",
    "#df_preproc = X1.pipe(preproc_data_oneh)"
   ]
  },
  {
   "cell_type": "code",
   "execution_count": 236,
   "metadata": {},
   "outputs": [
    {
     "data": {
      "text/plain": [
       "(24712, 27)"
      ]
     },
     "execution_count": 236,
     "metadata": {},
     "output_type": "execute_result"
    }
   ],
   "source": [
    "df_preproc.shape"
   ]
  },
  {
   "cell_type": "code",
   "execution_count": 237,
   "metadata": {},
   "outputs": [],
   "source": [
    "from sklearn.cross_validation import train_test_split\n",
    "X_train, X_test, y_train, y_test = train_test_split(df_preproc, Y1, test_size=0.33, random_state=42)"
   ]
  },
  {
   "cell_type": "code",
   "execution_count": 238,
   "metadata": {},
   "outputs": [
    {
     "name": "stdout",
     "output_type": "stream",
     "text": [
      "precision LR 0.6767485822306238\n",
      "recall LR 0.387027027027027\n",
      "accuracy LR 0.9095033721643163\n"
     ]
    }
   ],
   "source": [
    "from sklearn.metrics import precision_score, recall_score, accuracy_score, classification_report\n",
    "\n",
    "from sklearn.tree import DecisionTreeClassifier\n",
    "from sklearn.ensemble import RandomForestClassifier\n",
    "from sklearn.linear_model import LogisticRegression\n",
    "\n",
    "## Your Code Here\n",
    "\n",
    "\n",
    "model_LR = LogisticRegression(penalty='l2', C=1)                     # инициализируем модель\n",
    "model_LR.fit(X_train, y_train)                      # обучаем модель на трейн данных и тест данных\n",
    "predict_LR = model_LR.predict(X_test)                  # делаем предсказание\n",
    "predict_proba_LR = model_LR.predict_proba(X_test)      # вероятность\n",
    "\n",
    "print('precision LR', precision_score(y_test, predict_LR))\n",
    "print('recall LR', recall_score(y_test, predict_LR))\n",
    "print('accuracy LR', accuracy_score(y_test, predict_LR))"
   ]
  },
  {
   "cell_type": "code",
   "execution_count": 239,
   "metadata": {},
   "outputs": [
    {
     "name": "stdout",
     "output_type": "stream",
     "text": [
      "precision RF 0.6564774381368268\n",
      "recall RF 0.4875675675675676\n",
      "accuracy RF 0.9129368485591661\n"
     ]
    }
   ],
   "source": [
    "model_RF = RandomForestClassifier(n_estimators=10000,max_depth = 100,criterion='entropy',n_jobs=-1)\n",
    "model_RF.fit(X_train, y_train)\n",
    "predict_RF = model_RF.predict(X_test)\n",
    "predict_proba_RF = model_RF.predict_proba(X_test)\n",
    "\n",
    "print('precision RF', precision_score(y_test, predict_RF))\n",
    "print('recall RF', recall_score(y_test, predict_RF))\n",
    "print('accuracy RF', accuracy_score(y_test, predict_RF))"
   ]
  },
  {
   "cell_type": "code",
   "execution_count": 240,
   "metadata": {},
   "outputs": [
    {
     "name": "stdout",
     "output_type": "stream",
     "text": [
      "precision DT 0.5301724137931034\n",
      "recall DT 0.5318918918918919\n",
      "accuracy DT 0.8934396076026977\n"
     ]
    }
   ],
   "source": [
    "model_DT = DecisionTreeClassifier(criterion='entropy', random_state=1000)\n",
    "model_DT.fit(X_train, y_train)\n",
    "predict_DT = model_DT.predict(X_test)\n",
    "predict_proba_DT = model_DT.predict_proba(X_test)\n",
    "\n",
    "print('precision DT', precision_score(y_test, predict_DT))\n",
    "print('recall DT', recall_score(y_test, predict_DT))\n",
    "print('accuracy DT', accuracy_score(y_test, predict_DT))"
   ]
  },
  {
   "cell_type": "code",
   "execution_count": 241,
   "metadata": {},
   "outputs": [
    {
     "data": {
      "text/plain": [
       "(-0.01, 1.01)"
      ]
     },
     "execution_count": 241,
     "metadata": {},
     "output_type": "execute_result"
    },
    {
     "data": {
      "image/png": "[encoded data removed]",
      "text/plain": [
       "<Figure size 720x720 with 1 Axes>"
      ]
     },
     "metadata": {},
     "output_type": "display_data"
    }
   ],
   "source": [
    "from sklearn.metrics import roc_auc_score, roc_curve\n",
    "\n",
    "fpr_LR, tpr_LR, thresholds = roc_curve(y_test, predict_proba_LR[:,1]) #вложили реальные Y  и предугаданные\n",
    "fpr_RF, tpr_RF, thresholds = roc_curve(y_test, predict_proba_RF[:,1]) #вложили реальные Y  и предугаданные\n",
    "fpr_DT, tpr_DT, thresholds = roc_curve(y_test, predict_proba_DT[:,1]) #вложили реальные Y  и предугаданные\n",
    "plt.figure(figsize=(10, 10))\n",
    "plt.plot(fpr_LR, tpr_LR,label='LR')\n",
    "plt.plot(fpr_RF, tpr_RF,label='RF')\n",
    "plt.plot(fpr_DT, tpr_DT,label='DT')\n",
    "plt.plot([0, 1], [0, 1])\n",
    "plt.ylabel('tpr')\n",
    "plt.xlabel('fpr')\n",
    "plt.grid(True)\n",
    "plt.title('ROC curve')\n",
    "plt.legend()\n",
    "plt.xlim((-0.01, 1.01))\n",
    "plt.ylim((-0.01, 1.01))"
   ]
  },
  {
   "cell_type": "code",
   "execution_count": 242,
   "metadata": {},
   "outputs": [
    {
     "data": {
      "text/plain": [
       "0.9236520503906398"
      ]
     },
     "execution_count": 242,
     "metadata": {},
     "output_type": "execute_result"
    }
   ],
   "source": [
    "roc_auc_score(y_test, predict_proba_LR[:,1])"
   ]
  },
  {
   "cell_type": "code",
   "execution_count": null,
   "metadata": {},
   "outputs": [],
   "source": [
    "0.9393011102388695  100\n",
    "0.9402795409517402   max_depth = 100\n",
    "\n",
    "0.9437503644723562 n_estimators=1000,max_depth = 100\n",
    "0.9441728533512767 n_estimators=10000,max_depth = 100\n",
    "0.9460879967104032 n_estimators=10000,max_depth = 100,criterion='entropy'\n",
    "0.9457896153414826 n_estimators=10000,max_depth = 1000,criterion='entropy',n_jobs=-1\n",
    "0.9457603080258681 n_estimators=10000,max_depth = 500,criterion='entropy',n_jobs=-1\n",
    "0.9456229673657061 n_estimators=10000,max_depth = 50,criterion='entropy',n_jobs=-1"
   ]
  },
  {
   "cell_type": "code",
   "execution_count": 243,
   "metadata": {},
   "outputs": [],
   "source": [
    "from sklearn.preprocessing import StandardScaler\n",
    "from sklearn.pipeline import Pipeline\n",
    "from sklearn.neighbors import KNeighborsClassifier\n",
    "from sklearn.model_selection import train_test_split"
   ]
  },
  {
   "cell_type": "code",
   "execution_count": 244,
   "metadata": {},
   "outputs": [],
   "source": [
    "model = Pipeline([('scaler', StandardScaler()),('knn', KNeighborsClassifier(n_neighbors=5))])"
   ]
  },
  {
   "cell_type": "code",
   "execution_count": 245,
   "metadata": {},
   "outputs": [
    {
     "data": {
      "text/plain": [
       "Pipeline(memory=None,\n",
       "     steps=[('scaler', StandardScaler(copy=True, with_mean=True, with_std=True)), ('knn', KNeighborsClassifier(algorithm='auto', leaf_size=30, metric='minkowski',\n",
       "           metric_params=None, n_jobs=1, n_neighbors=5, p=2,\n",
       "           weights='uniform'))])"
      ]
     },
     "execution_count": 245,
     "metadata": {},
     "output_type": "execute_result"
    }
   ],
   "source": [
    "model.fit(X_train, y_train)"
   ]
  },
  {
   "cell_type": "code",
   "execution_count": 246,
   "metadata": {},
   "outputs": [],
   "source": [
    "y_hat = model.predict(X_test)"
   ]
  },
  {
   "cell_type": "code",
   "execution_count": 247,
   "metadata": {},
   "outputs": [],
   "source": [
    "y_hat_proba = model.predict_proba(X_test, )"
   ]
  },
  {
   "cell_type": "code",
   "execution_count": 248,
   "metadata": {},
   "outputs": [
    {
     "data": {
      "text/plain": [
       "0.8519963365855482"
      ]
     },
     "execution_count": 248,
     "metadata": {},
     "output_type": "execute_result"
    }
   ],
   "source": [
    "roc_auc_score(y_test, y_hat_proba[:, 1])"
   ]
  },
  {
   "cell_type": "code",
   "execution_count": 260,
   "metadata": {},
   "outputs": [],
   "source": [
    "scores_test = []\n",
    "scores_train = []\n",
    "\n",
    "for k in range(1, 15):  # k кол-во ближайших соседей для каждого K y\n",
    "    model = Pipeline([\n",
    "       ('scaler', StandardScaler()),\n",
    "       ('knn', KNeighborsClassifier(n_neighbors=k))\n",
    "    ])\n",
    "    model.fit(X_train, y_train, )\n",
    "\n",
    "    y_hat_test = model.predict_proba(X_test)\n",
    "    scores_test.append(roc_auc_score(y_test, y_hat_test[:, 1]))\n",
    "\n",
    "    y_hat_train = model.predict_proba(X_train)\n",
    "    scores_train.append(roc_auc_score(y_train, y_hat_train[:, 1]))# Your Code Here  "
   ]
  },
  {
   "cell_type": "code",
   "execution_count": 261,
   "metadata": {},
   "outputs": [
    {
     "data": {
      "text/plain": [
       "<matplotlib.legend.Legend at 0x1aa9cf6da0>"
      ]
     },
     "execution_count": 261,
     "metadata": {},
     "output_type": "execute_result"
    },
    {
     "data": {
      "image/png": "[encoded data removed]",
      "text/plain": [
       "<Figure size 576x360 with 1 Axes>"
      ]
     },
     "metadata": {},
     "output_type": "display_data"
    }
   ],
   "source": [
    "plt.plot(scores_test, label='test')\n",
    "plt.plot(scores_train, label='train')\n",
    "plt.legend()"
   ]
  },
  {
   "cell_type": "code",
   "execution_count": 250,
   "metadata": {},
   "outputs": [],
   "source": [
    "df_preproc_test = df_test.pipe(preproc_data)"
   ]
  },
  {
   "cell_type": "code",
   "execution_count": 252,
   "metadata": {},
   "outputs": [
    {
     "data": {
      "text/html": [
       "<div>\n",
       "<style scoped>\n",
       "    .dataframe tbody tr th:only-of-type {\n",
       "        vertical-align: middle;\n",
       "    }\n",
       "\n",
       "    .dataframe tbody tr th {\n",
       "        vertical-align: top;\n",
       "    }\n",
       "\n",
       "    .dataframe thead th {\n",
       "        text-align: right;\n",
       "    }\n",
       "</style>\n",
       "<table border=\"1\" class=\"dataframe\">\n",
       "  <thead>\n",
       "    <tr style=\"text-align: right;\">\n",
       "      <th>_id</th>\n",
       "      <th>66810d8e6bf2b41c880a7bc6c8a1e295</th>\n",
       "      <th>ccac3879652b08cb8b44c1920fd93afa</th>\n",
       "      <th>fcccab4d7a76f70647f015f2c84c2af8</th>\n",
       "      <th>ed8399278c30678dab739045fa12b440</th>\n",
       "      <th>1d4d62ac5cabcb48bac7112813f290cb</th>\n",
       "    </tr>\n",
       "  </thead>\n",
       "  <tbody>\n",
       "    <tr>\n",
       "      <th>age</th>\n",
       "      <td>57.000</td>\n",
       "      <td>55.000</td>\n",
       "      <td>33.000</td>\n",
       "      <td>36.000</td>\n",
       "      <td>27.000</td>\n",
       "    </tr>\n",
       "    <tr>\n",
       "      <th>duration</th>\n",
       "      <td>371.000</td>\n",
       "      <td>285.000</td>\n",
       "      <td>52.000</td>\n",
       "      <td>355.000</td>\n",
       "      <td>189.000</td>\n",
       "    </tr>\n",
       "    <tr>\n",
       "      <th>campaign</th>\n",
       "      <td>1.000</td>\n",
       "      <td>2.000</td>\n",
       "      <td>1.000</td>\n",
       "      <td>4.000</td>\n",
       "      <td>2.000</td>\n",
       "    </tr>\n",
       "    <tr>\n",
       "      <th>pdays</th>\n",
       "      <td>999.000</td>\n",
       "      <td>999.000</td>\n",
       "      <td>999.000</td>\n",
       "      <td>999.000</td>\n",
       "      <td>999.000</td>\n",
       "    </tr>\n",
       "    <tr>\n",
       "      <th>previous</th>\n",
       "      <td>1.000</td>\n",
       "      <td>0.000</td>\n",
       "      <td>1.000</td>\n",
       "      <td>0.000</td>\n",
       "      <td>0.000</td>\n",
       "    </tr>\n",
       "    <tr>\n",
       "      <th>emp.var.rate</th>\n",
       "      <td>-1.800</td>\n",
       "      <td>1.100</td>\n",
       "      <td>-1.800</td>\n",
       "      <td>1.400</td>\n",
       "      <td>1.400</td>\n",
       "    </tr>\n",
       "    <tr>\n",
       "      <th>cons.price.idx</th>\n",
       "      <td>92.893</td>\n",
       "      <td>93.994</td>\n",
       "      <td>92.893</td>\n",
       "      <td>94.465</td>\n",
       "      <td>93.918</td>\n",
       "    </tr>\n",
       "    <tr>\n",
       "      <th>cons.conf.idx</th>\n",
       "      <td>-46.200</td>\n",
       "      <td>-36.400</td>\n",
       "      <td>-46.200</td>\n",
       "      <td>-41.800</td>\n",
       "      <td>-42.700</td>\n",
       "    </tr>\n",
       "    <tr>\n",
       "      <th>euribor3m</th>\n",
       "      <td>1.299</td>\n",
       "      <td>4.860</td>\n",
       "      <td>1.313</td>\n",
       "      <td>4.967</td>\n",
       "      <td>4.963</td>\n",
       "    </tr>\n",
       "    <tr>\n",
       "      <th>nr.employed</th>\n",
       "      <td>5099.100</td>\n",
       "      <td>5191.000</td>\n",
       "      <td>5099.100</td>\n",
       "      <td>5228.100</td>\n",
       "      <td>5228.100</td>\n",
       "    </tr>\n",
       "    <tr>\n",
       "      <th>is_month_occurs</th>\n",
       "      <td>1.000</td>\n",
       "      <td>1.000</td>\n",
       "      <td>1.000</td>\n",
       "      <td>1.000</td>\n",
       "      <td>1.000</td>\n",
       "    </tr>\n",
       "    <tr>\n",
       "      <th>is_job_occurs</th>\n",
       "      <td>1.000</td>\n",
       "      <td>0.000</td>\n",
       "      <td>1.000</td>\n",
       "      <td>1.000</td>\n",
       "      <td>1.000</td>\n",
       "    </tr>\n",
       "    <tr>\n",
       "      <th>is_marital_occurs</th>\n",
       "      <td>1.000</td>\n",
       "      <td>1.000</td>\n",
       "      <td>1.000</td>\n",
       "      <td>1.000</td>\n",
       "      <td>1.000</td>\n",
       "    </tr>\n",
       "    <tr>\n",
       "      <th>is_education_occurs</th>\n",
       "      <td>1.000</td>\n",
       "      <td>0.000</td>\n",
       "      <td>1.000</td>\n",
       "      <td>1.000</td>\n",
       "      <td>1.000</td>\n",
       "    </tr>\n",
       "    <tr>\n",
       "      <th>is_default_occurs</th>\n",
       "      <td>1.000</td>\n",
       "      <td>0.000</td>\n",
       "      <td>1.000</td>\n",
       "      <td>1.000</td>\n",
       "      <td>1.000</td>\n",
       "    </tr>\n",
       "    <tr>\n",
       "      <th>is_housing_occurs</th>\n",
       "      <td>1.000</td>\n",
       "      <td>1.000</td>\n",
       "      <td>1.000</td>\n",
       "      <td>1.000</td>\n",
       "      <td>1.000</td>\n",
       "    </tr>\n",
       "    <tr>\n",
       "      <th>is_loan_occurs</th>\n",
       "      <td>1.000</td>\n",
       "      <td>1.000</td>\n",
       "      <td>1.000</td>\n",
       "      <td>1.000</td>\n",
       "      <td>1.000</td>\n",
       "    </tr>\n",
       "    <tr>\n",
       "      <th>job_le</th>\n",
       "      <td>9.000</td>\n",
       "      <td>11.000</td>\n",
       "      <td>1.000</td>\n",
       "      <td>0.000</td>\n",
       "      <td>3.000</td>\n",
       "    </tr>\n",
       "    <tr>\n",
       "      <th>marital_le</th>\n",
       "      <td>1.000</td>\n",
       "      <td>1.000</td>\n",
       "      <td>1.000</td>\n",
       "      <td>1.000</td>\n",
       "      <td>1.000</td>\n",
       "    </tr>\n",
       "    <tr>\n",
       "      <th>education_le</th>\n",
       "      <td>3.000</td>\n",
       "      <td>7.000</td>\n",
       "      <td>2.000</td>\n",
       "      <td>3.000</td>\n",
       "      <td>3.000</td>\n",
       "    </tr>\n",
       "    <tr>\n",
       "      <th>default_le</th>\n",
       "      <td>0.000</td>\n",
       "      <td>1.000</td>\n",
       "      <td>0.000</td>\n",
       "      <td>0.000</td>\n",
       "      <td>0.000</td>\n",
       "    </tr>\n",
       "    <tr>\n",
       "      <th>housing_le</th>\n",
       "      <td>0.000</td>\n",
       "      <td>2.000</td>\n",
       "      <td>0.000</td>\n",
       "      <td>0.000</td>\n",
       "      <td>2.000</td>\n",
       "    </tr>\n",
       "    <tr>\n",
       "      <th>loan_le</th>\n",
       "      <td>2.000</td>\n",
       "      <td>0.000</td>\n",
       "      <td>0.000</td>\n",
       "      <td>0.000</td>\n",
       "      <td>0.000</td>\n",
       "    </tr>\n",
       "    <tr>\n",
       "      <th>contact_le</th>\n",
       "      <td>0.000</td>\n",
       "      <td>1.000</td>\n",
       "      <td>0.000</td>\n",
       "      <td>1.000</td>\n",
       "      <td>0.000</td>\n",
       "    </tr>\n",
       "    <tr>\n",
       "      <th>month_le</th>\n",
       "      <td>6.000</td>\n",
       "      <td>6.000</td>\n",
       "      <td>6.000</td>\n",
       "      <td>4.000</td>\n",
       "      <td>3.000</td>\n",
       "    </tr>\n",
       "    <tr>\n",
       "      <th>day_of_week_le</th>\n",
       "      <td>1.000</td>\n",
       "      <td>2.000</td>\n",
       "      <td>0.000</td>\n",
       "      <td>0.000</td>\n",
       "      <td>0.000</td>\n",
       "    </tr>\n",
       "    <tr>\n",
       "      <th>poutcome_le</th>\n",
       "      <td>0.000</td>\n",
       "      <td>1.000</td>\n",
       "      <td>0.000</td>\n",
       "      <td>1.000</td>\n",
       "      <td>1.000</td>\n",
       "    </tr>\n",
       "  </tbody>\n",
       "</table>\n",
       "</div>"
      ],
      "text/plain": [
       "_id                  66810d8e6bf2b41c880a7bc6c8a1e295  \\\n",
       "age                                            57.000   \n",
       "duration                                      371.000   \n",
       "campaign                                        1.000   \n",
       "pdays                                         999.000   \n",
       "previous                                        1.000   \n",
       "emp.var.rate                                   -1.800   \n",
       "cons.price.idx                                 92.893   \n",
       "cons.conf.idx                                 -46.200   \n",
       "euribor3m                                       1.299   \n",
       "nr.employed                                  5099.100   \n",
       "is_month_occurs                                 1.000   \n",
       "is_job_occurs                                   1.000   \n",
       "is_marital_occurs                               1.000   \n",
       "is_education_occurs                             1.000   \n",
       "is_default_occurs                               1.000   \n",
       "is_housing_occurs                               1.000   \n",
       "is_loan_occurs                                  1.000   \n",
       "job_le                                          9.000   \n",
       "marital_le                                      1.000   \n",
       "education_le                                    3.000   \n",
       "default_le                                      0.000   \n",
       "housing_le                                      0.000   \n",
       "loan_le                                         2.000   \n",
       "contact_le                                      0.000   \n",
       "month_le                                        6.000   \n",
       "day_of_week_le                                  1.000   \n",
       "poutcome_le                                     0.000   \n",
       "\n",
       "_id                  ccac3879652b08cb8b44c1920fd93afa  \\\n",
       "age                                            55.000   \n",
       "duration                                      285.000   \n",
       "campaign                                        2.000   \n",
       "pdays                                         999.000   \n",
       "previous                                        0.000   \n",
       "emp.var.rate                                    1.100   \n",
       "cons.price.idx                                 93.994   \n",
       "cons.conf.idx                                 -36.400   \n",
       "euribor3m                                       4.860   \n",
       "nr.employed                                  5191.000   \n",
       "is_month_occurs                                 1.000   \n",
       "is_job_occurs                                   0.000   \n",
       "is_marital_occurs                               1.000   \n",
       "is_education_occurs                             0.000   \n",
       "is_default_occurs                               0.000   \n",
       "is_housing_occurs                               1.000   \n",
       "is_loan_occurs                                  1.000   \n",
       "job_le                                         11.000   \n",
       "marital_le                                      1.000   \n",
       "education_le                                    7.000   \n",
       "default_le                                      1.000   \n",
       "housing_le                                      2.000   \n",
       "loan_le                                         0.000   \n",
       "contact_le                                      1.000   \n",
       "month_le                                        6.000   \n",
       "day_of_week_le                                  2.000   \n",
       "poutcome_le                                     1.000   \n",
       "\n",
       "_id                  fcccab4d7a76f70647f015f2c84c2af8  \\\n",
       "age                                            33.000   \n",
       "duration                                       52.000   \n",
       "campaign                                        1.000   \n",
       "pdays                                         999.000   \n",
       "previous                                        1.000   \n",
       "emp.var.rate                                   -1.800   \n",
       "cons.price.idx                                 92.893   \n",
       "cons.conf.idx                                 -46.200   \n",
       "euribor3m                                       1.313   \n",
       "nr.employed                                  5099.100   \n",
       "is_month_occurs                                 1.000   \n",
       "is_job_occurs                                   1.000   \n",
       "is_marital_occurs                               1.000   \n",
       "is_education_occurs                             1.000   \n",
       "is_default_occurs                               1.000   \n",
       "is_housing_occurs                               1.000   \n",
       "is_loan_occurs                                  1.000   \n",
       "job_le                                          1.000   \n",
       "marital_le                                      1.000   \n",
       "education_le                                    2.000   \n",
       "default_le                                      0.000   \n",
       "housing_le                                      0.000   \n",
       "loan_le                                         0.000   \n",
       "contact_le                                      0.000   \n",
       "month_le                                        6.000   \n",
       "day_of_week_le                                  0.000   \n",
       "poutcome_le                                     0.000   \n",
       "\n",
       "_id                  ed8399278c30678dab739045fa12b440  \\\n",
       "age                                            36.000   \n",
       "duration                                      355.000   \n",
       "campaign                                        4.000   \n",
       "pdays                                         999.000   \n",
       "previous                                        0.000   \n",
       "emp.var.rate                                    1.400   \n",
       "cons.price.idx                                 94.465   \n",
       "cons.conf.idx                                 -41.800   \n",
       "euribor3m                                       4.967   \n",
       "nr.employed                                  5228.100   \n",
       "is_month_occurs                                 1.000   \n",
       "is_job_occurs                                   1.000   \n",
       "is_marital_occurs                               1.000   \n",
       "is_education_occurs                             1.000   \n",
       "is_default_occurs                               1.000   \n",
       "is_housing_occurs                               1.000   \n",
       "is_loan_occurs                                  1.000   \n",
       "job_le                                          0.000   \n",
       "marital_le                                      1.000   \n",
       "education_le                                    3.000   \n",
       "default_le                                      0.000   \n",
       "housing_le                                      0.000   \n",
       "loan_le                                         0.000   \n",
       "contact_le                                      1.000   \n",
       "month_le                                        4.000   \n",
       "day_of_week_le                                  0.000   \n",
       "poutcome_le                                     1.000   \n",
       "\n",
       "_id                  1d4d62ac5cabcb48bac7112813f290cb  \n",
       "age                                            27.000  \n",
       "duration                                      189.000  \n",
       "campaign                                        2.000  \n",
       "pdays                                         999.000  \n",
       "previous                                        0.000  \n",
       "emp.var.rate                                    1.400  \n",
       "cons.price.idx                                 93.918  \n",
       "cons.conf.idx                                 -42.700  \n",
       "euribor3m                                       4.963  \n",
       "nr.employed                                  5228.100  \n",
       "is_month_occurs                                 1.000  \n",
       "is_job_occurs                                   1.000  \n",
       "is_marital_occurs                               1.000  \n",
       "is_education_occurs                             1.000  \n",
       "is_default_occurs                               1.000  \n",
       "is_housing_occurs                               1.000  \n",
       "is_loan_occurs                                  1.000  \n",
       "job_le                                          3.000  \n",
       "marital_le                                      1.000  \n",
       "education_le                                    3.000  \n",
       "default_le                                      0.000  \n",
       "housing_le                                      2.000  \n",
       "loan_le                                         0.000  \n",
       "contact_le                                      0.000  \n",
       "month_le                                        3.000  \n",
       "day_of_week_le                                  0.000  \n",
       "poutcome_le                                     1.000  "
      ]
     },
     "execution_count": 252,
     "metadata": {},
     "output_type": "execute_result"
    }
   ],
   "source": [
    "df_preproc_test.head().T"
   ]
  },
  {
   "cell_type": "code",
   "execution_count": 251,
   "metadata": {},
   "outputs": [
    {
     "data": {
      "text/plain": [
       "(16476, 27)"
      ]
     },
     "execution_count": 251,
     "metadata": {},
     "output_type": "execute_result"
    }
   ],
   "source": [
    "df_preproc_test.shape"
   ]
  },
  {
   "cell_type": "code",
   "execution_count": 253,
   "metadata": {},
   "outputs": [],
   "source": [
    "\n",
    "log_reg_pred = model_RF.predict_proba(df_preproc_test)[:, 1]"
   ]
  },
  {
   "cell_type": "code",
   "execution_count": 254,
   "metadata": {},
   "outputs": [
    {
     "data": {
      "text/plain": [
       "array([0.1279, 0.0039, 0.0003, ..., 0.0089, 0.0027, 0.0006])"
      ]
     },
     "execution_count": 254,
     "metadata": {},
     "output_type": "execute_result"
    }
   ],
   "source": [
    "log_reg_pred"
   ]
  },
  {
   "cell_type": "code",
   "execution_count": 256,
   "metadata": {},
   "outputs": [
    {
     "name": "stdout",
     "output_type": "stream",
     "text": [
      "target    1410\n",
      "dtype: int64\n",
      "target    16476\n",
      "dtype: int64\n"
     ]
    }
   ],
   "source": [
    "result = pd.DataFrame(np.array(log_reg_pred), columns=['target'], index=df_preproc_test.index)\n",
    "\n",
    "print (result[result['target']>0.5].count())\n",
    "print (result.count())"
   ]
  },
  {
   "cell_type": "code",
   "execution_count": 259,
   "metadata": {},
   "outputs": [],
   "source": [
    "result.to_csv('sample_submission.csv', encoding='utf8')"
   ]
  },
  {
   "cell_type": "code",
   "execution_count": null,
   "metadata": {},
   "outputs": [],
   "source": []
  }
 ],
 "metadata": {
  "kernelspec": {
   "display_name": "Python 3",
   "language": "python",
   "name": "python3"
  },
  "language_info": {
   "codemirror_mode": {
    "name": "ipython",
    "version": 3
   },
   "file_extension": ".py",
   "mimetype": "text/x-python",
   "name": "python",
   "nbconvert_exporter": "python",
   "pygments_lexer": "ipython3",
   "version": "3.6.3"
  }
 },
 "nbformat": 4,
 "nbformat_minor": 2
}
